{
  "nbformat": 4,
  "nbformat_minor": 0,
  "metadata": {
    "colab": {
      "provenance": []
    },
    "kernelspec": {
      "name": "python3",
      "display_name": "Python 3"
    },
    "language_info": {
      "name": "python"
    }
  },
  "cells": [
    {
      "cell_type": "code",
      "execution_count": 20,
      "metadata": {
        "id": "_FDJn8TgngBG",
        "colab": {
          "base_uri": "https://localhost:8080/"
        },
        "outputId": "341cafc2-8584-4f1f-e5f8-d56e30e85307"
      },
      "outputs": [
        {
          "output_type": "stream",
          "name": "stdout",
          "text": [
            "enter a word\n",
            "assignment\n",
            "a=1\n",
            "s=2\n",
            "s=2\n",
            "i=1\n",
            "g=1\n",
            "n=2\n",
            "m=1\n",
            "e=1\n",
            "n=2\n",
            "t=1\n"
          ]
        }
      ],
      "source": [
        "#1\n",
        "word = input(\"enter a word\\n\")\n",
        "for letter in word:\n",
        "  #print(letter)\n",
        "  count=word.count(letter)\n",
        "  print(f\"{letter}={count}\")\n",
        " # if letter in word:\n",
        "  #  print(\"count of {letter} =\" word.count(letter))\n",
        "\n"
      ]
    },
    {
      "cell_type": "code",
      "source": [
        "#2\n",
        "def max_num_three(x,y,z):\n",
        "   if x > y and x>z:\n",
        "     max_num = x\n",
        "   elif y>z:\n",
        "    max_num = y\n",
        "   else:\n",
        "    max_num = z\n",
        "   return max_num\n",
        "max_num_three(23,54,88)"
      ],
      "metadata": {
        "colab": {
          "base_uri": "https://localhost:8080/"
        },
        "id": "oypLIcV5mVqS",
        "outputId": "36f10fe1-2524-4ed1-f079-fb01d783760a"
      },
      "execution_count": null,
      "outputs": [
        {
          "output_type": "execute_result",
          "data": {
            "text/plain": [
              "88"
            ]
          },
          "metadata": {},
          "execution_count": 23
        }
      ]
    },
    {
      "cell_type": "code",
      "source": [
        "#3.\n",
        "base=int(input(\"enter the base\\n\"))\n",
        "exponent=int(input(\"enter the exponent\\n\"))\n",
        "output = base**exponent\n",
        "print(\"output = \",output)"
      ],
      "metadata": {
        "colab": {
          "base_uri": "https://localhost:8080/"
        },
        "id": "F3_4PFiU_Ywh",
        "outputId": "15b06f37-da51-4ab7-a280-0ae742fc32b7"
      },
      "execution_count": 22,
      "outputs": [
        {
          "output_type": "stream",
          "name": "stdout",
          "text": [
            "enter the base\n",
            "3\n",
            "enter the exponent\n",
            "4\n",
            "output =  81\n"
          ]
        }
      ]
    },
    {
      "cell_type": "code",
      "source": [
        "#4.\n",
        "num = int(input(\"Enter a positive integer\\n\"))\n",
        "sum=0\n",
        "for n in range(1,num):\n",
        "  sum+=n**3\n",
        "print(f\"sum = {sum}\")"
      ],
      "metadata": {
        "colab": {
          "base_uri": "https://localhost:8080/"
        },
        "id": "GRKhhVZKd257",
        "outputId": "dc48711a-6203-48c3-a105-3f34508b4093"
      },
      "execution_count": 23,
      "outputs": [
        {
          "output_type": "stream",
          "name": "stdout",
          "text": [
            "Enter a positive integer\n",
            "5\n",
            "sum = 100\n"
          ]
        }
      ]
    },
    {
      "cell_type": "code",
      "source": [
        "#5.\n",
        "for i in range(1,11):\n",
        "  if i%2==0 and i%5!=0:\n",
        "    print(\"Fizz\")\n",
        "  elif i%5==0 and i%2!=0:\n",
        "     print(\"Buzz\")\n",
        "  elif i%2==0 and i%5==0:\n",
        "    print(\"FizzBuzz\")\n",
        "  else:\n",
        "    print(i)"
      ],
      "metadata": {
        "colab": {
          "base_uri": "https://localhost:8080/"
        },
        "id": "QcOv1VSYf0hn",
        "outputId": "e61f1fc8-010c-4985-9223-e7b8f9458f5f"
      },
      "execution_count": 8,
      "outputs": [
        {
          "output_type": "stream",
          "name": "stdout",
          "text": [
            "1\n",
            "Fizz\n",
            "3\n",
            "Fizz\n",
            "Buzz\n",
            "Fizz\n",
            "7\n",
            "Fizz\n",
            "9\n",
            "FizzBuzz\n"
          ]
        }
      ]
    },
    {
      "cell_type": "code",
      "source": [
        "#6.\n",
        "myList=[2,5,4,7,5,9,6,2]\n",
        "count=0\n",
        "n=0\n",
        "i=0\n",
        "for x in range(0,len(myList)):\n",
        "  n=myList.count(myList[x])\n",
        "  if n>count:\n",
        "    count=n\n",
        "    i=x\n",
        "most_freq_item=myList[i]\n",
        "print(\"Most frequent item is\",most_freq_item)"
      ],
      "metadata": {
        "id": "WfoDk6hshcov",
        "colab": {
          "base_uri": "https://localhost:8080/"
        },
        "outputId": "aacf9ee8-0516-489e-998f-32759405a30c"
      },
      "execution_count": 7,
      "outputs": [
        {
          "output_type": "stream",
          "name": "stdout",
          "text": [
            "Most frequent item is 2\n"
          ]
        }
      ]
    },
    {
      "cell_type": "code",
      "source": [
        "#8.\n",
        "for i in range(1,16):\n",
        "  if i%2==0:\n",
        "    print(f\"{i} is even\")\n",
        "  else:\n",
        "    print(f\"{i} is odd\")"
      ],
      "metadata": {
        "colab": {
          "base_uri": "https://localhost:8080/"
        },
        "id": "UxBRqMJYg76V",
        "outputId": "59770d1e-a4c8-4f70-bb0a-43a43664e054"
      },
      "execution_count": 10,
      "outputs": [
        {
          "output_type": "stream",
          "name": "stdout",
          "text": [
            "1 is odd\n",
            "2 is even\n",
            "3 is odd\n",
            "4 is even\n",
            "5 is odd\n",
            "6 is even\n",
            "7 is odd\n",
            "8 is even\n",
            "9 is odd\n",
            "10 is even\n",
            "11 is odd\n",
            "12 is even\n",
            "13 is odd\n",
            "14 is even\n",
            "15 is odd\n"
          ]
        }
      ]
    },
    {
      "cell_type": "code",
      "source": [
        "#9.\n",
        "f=int(input(\"Enter temperature in farenheit\\n\"))\n",
        "c= (f-32)*5/9\n",
        "print(f\"Temperature in celcius is {c}\")"
      ],
      "metadata": {
        "colab": {
          "base_uri": "https://localhost:8080/"
        },
        "id": "MMwt_D8jk5yc",
        "outputId": "8093de3e-82d1-4023-e69d-6e7c9cd8c932"
      },
      "execution_count": 13,
      "outputs": [
        {
          "output_type": "stream",
          "name": "stdout",
          "text": [
            "Enter temperature in farenheit\n",
            "99\n",
            "Temperature in celcius is 37.22222222222222\n"
          ]
        }
      ]
    },
    {
      "cell_type": "code",
      "source": [
        "#10\n",
        "\n",
        "def fact(num):\n",
        "  if num ==0:\n",
        "     return 1\n",
        "  else:\n",
        "    i=0\n",
        "    f=1\n",
        "    while i<num:\n",
        "      i+=1\n",
        "      f=f*i\n",
        "  return f\n",
        "fact(6)\n",
        "\n",
        "\n"
      ],
      "metadata": {
        "colab": {
          "base_uri": "https://localhost:8080/"
        },
        "id": "RmZw32mQq7vz",
        "outputId": "5bfaa75f-3d66-47b7-c947-22e9182879b3"
      },
      "execution_count": 19,
      "outputs": [
        {
          "output_type": "execute_result",
          "data": {
            "text/plain": [
              "720"
            ]
          },
          "metadata": {},
          "execution_count": 19
        }
      ]
    },
    {
      "cell_type": "code",
      "source": [],
      "metadata": {
        "id": "z9cMdN7Hue7I"
      },
      "execution_count": null,
      "outputs": []
    }
  ]
}