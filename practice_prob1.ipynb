{
  "nbformat": 4,
  "nbformat_minor": 0,
  "metadata": {
    "colab": {
      "provenance": []
    },
    "kernelspec": {
      "name": "python3",
      "display_name": "Python 3"
    },
    "language_info": {
      "name": "python"
    }
  },
  "cells": [
    {
      "cell_type": "code",
      "execution_count": null,
      "metadata": {
        "colab": {
          "base_uri": "https://localhost:8080/"
        },
        "id": "FPAs_iyFaw3v",
        "outputId": "02b54bbc-fa1a-44fb-8140-e79769a36a9b"
      },
      "outputs": [
        {
          "output_type": "stream",
          "name": "stdout",
          "text": [
            "Enter the radius2\n",
            "Area of the circle is 12.56\n"
          ]
        }
      ],
      "source": [
        "#1. Find area of circle\n",
        "rad=int(input(\"Enter the radius\"))\n",
        "area=3.14*rad*rad\n",
        "print(\"Area of the circle is\",area)\n"
      ]
    },
    {
      "cell_type": "code",
      "source": [
        "#2.\n",
        "name=input(\"Enter your name\\n\")\n",
        "roll_no=int(input(\"Enter your roll number\\n\"))\n",
        "mark=int(input(\"Enter the mark\\n\"))\n",
        "print(f\"Name :{name}\\nRoll number :{roll_no}\\nMark :{mark}\")\n",
        "\n",
        "\n"
      ],
      "metadata": {
        "id": "irG8Wmh3eAY0",
        "colab": {
          "base_uri": "https://localhost:8080/"
        },
        "outputId": "4868f62f-c32d-4531-b717-528f49c4f0c1"
      },
      "execution_count": 18,
      "outputs": [
        {
          "output_type": "stream",
          "name": "stdout",
          "text": [
            "Enter your name\n",
            "veena\n",
            "Enter your roll number\n",
            "52\n",
            "Enter the mark\n",
            "75\n",
            "Name :veena\n",
            "Roll number :52\n",
            "Mark :75\n"
          ]
        }
      ]
    },
    {
      "cell_type": "code",
      "source": [
        "#3.\n",
        "numList=[4,10,3,9,15]\n",
        "if numList[0]>numList[1] and numList[0]>numList[2] and numList[0]>numList[3] and numList[0]>numList[4]:\n",
        "  print(\"The largest number is \",numList[0])\n",
        "elif numList[1]>numList[2] and numList[1]>numList[3] and numList[1]>numList[4]:\n",
        "  print(\"The largest number is \",numList[1])\n",
        "elif numList[2]>numList[3] and numList[2]>numList[4]:\n",
        "  print(\"The largest number is \",numList[2])\n",
        "elif numList[3]>numList[4]:\n",
        "  print(\"The largest number is \",numList[3])\n",
        "else:\n",
        "  print(\"The largest number is \",numList[4])"
      ],
      "metadata": {
        "colab": {
          "base_uri": "https://localhost:8080/"
        },
        "id": "XOp68sJDfU1_",
        "outputId": "6787cd45-d6de-471e-e425-e181f62e086e"
      },
      "execution_count": null,
      "outputs": [
        {
          "output_type": "stream",
          "name": "stdout",
          "text": [
            "The largest number is  15\n"
          ]
        }
      ]
    },
    {
      "cell_type": "code",
      "source": [],
      "metadata": {
        "id": "GAonWj8gxHMU"
      },
      "execution_count": null,
      "outputs": []
    },
    {
      "cell_type": "code",
      "source": [
        "#4\n",
        "for i in range(1,11):\n",
        "  sum=i+(i-1)\n",
        "  print(\"current number = \",i)\n",
        "  print(\"previous number = \",i-1)\n",
        "  print(\"sum = \",sum)\n",
        "\n"
      ],
      "metadata": {
        "id": "t-1xYlkiy4jJ",
        "colab": {
          "base_uri": "https://localhost:8080/"
        },
        "outputId": "bd03760d-5997-4a68-b9f3-36ad80e7a72d"
      },
      "execution_count": null,
      "outputs": [
        {
          "output_type": "stream",
          "name": "stdout",
          "text": [
            "current number =  1\n",
            "previous number =  0\n",
            "sum =  1\n",
            "current number =  2\n",
            "previous number =  1\n",
            "sum =  3\n",
            "current number =  3\n",
            "previous number =  2\n",
            "sum =  5\n",
            "current number =  4\n",
            "previous number =  3\n",
            "sum =  7\n",
            "current number =  5\n",
            "previous number =  4\n",
            "sum =  9\n",
            "current number =  6\n",
            "previous number =  5\n",
            "sum =  11\n",
            "current number =  7\n",
            "previous number =  6\n",
            "sum =  13\n",
            "current number =  8\n",
            "previous number =  7\n",
            "sum =  15\n",
            "current number =  9\n",
            "previous number =  8\n",
            "sum =  17\n",
            "current number =  10\n",
            "previous number =  9\n",
            "sum =  19\n"
          ]
        }
      ]
    },
    {
      "cell_type": "code",
      "source": [
        "#5.\n",
        "def divisible_by_five(*args):\n",
        "  divisible = []\n",
        "  for num in args:\n",
        "    if num%5==0:\n",
        "      divisible.append(num)\n",
        "  print(divisible)\n",
        "\n",
        "divisible_by_five(5,4,9,10,21,20)\n"
      ],
      "metadata": {
        "id": "DVgn8D_EdRVf",
        "colab": {
          "base_uri": "https://localhost:8080/"
        },
        "outputId": "eeffce40-ac60-4ed2-cd02-cc512e0f5736"
      },
      "execution_count": null,
      "outputs": [
        {
          "output_type": "stream",
          "name": "stdout",
          "text": [
            "[5, 10, 20]\n"
          ]
        }
      ]
    },
    {
      "cell_type": "code",
      "source": [
        "#6\n",
        "num =int(input(\"Enter a number\\n\"))\n",
        "if num>1:\n",
        "  for i in range(2,num):\n",
        "    if num%i==0:\n",
        "      print(num,\"is not a prime number\")\n",
        "      break\n",
        "    else:\n",
        "      print(num,\"is a prime number\")\n",
        "else:\n",
        "  print(num,\"is not a prime number\")"
      ],
      "metadata": {
        "colab": {
          "base_uri": "https://localhost:8080/"
        },
        "id": "3-0ol8CqyT9a",
        "outputId": "25dae303-16b3-404b-957f-c65f1de39214"
      },
      "execution_count": 19,
      "outputs": [
        {
          "output_type": "stream",
          "name": "stdout",
          "text": [
            "Enter a number\n",
            "4\n",
            "4 is not a prime number\n"
          ]
        }
      ]
    },
    {
      "cell_type": "code",
      "source": [
        "#7\n",
        "myList=[11,5,8,22,57]\n",
        "reversedList=[]\n",
        "for i in range(1,len(myList)+1):\n",
        "  reversedList.append(myList[-i])\n",
        "print(reversedList)"
      ],
      "metadata": {
        "colab": {
          "base_uri": "https://localhost:8080/"
        },
        "id": "h8l4MkSS00PK",
        "outputId": "c1eaf732-6c18-4b65-c334-2c93d94dedd1"
      },
      "execution_count": 15,
      "outputs": [
        {
          "output_type": "stream",
          "name": "stdout",
          "text": [
            "[57, 22, 8, 5, 11]\n"
          ]
        }
      ]
    },
    {
      "cell_type": "code",
      "source": [
        "#8.\n",
        "for i in range(1,5):\n",
        "  s=\"*\"*i\n",
        "  print(s)"
      ],
      "metadata": {
        "colab": {
          "base_uri": "https://localhost:8080/"
        },
        "id": "seURvGSrjX1A",
        "outputId": "e1e53575-5f61-44e9-b8ea-563b9bf6d284"
      },
      "execution_count": null,
      "outputs": [
        {
          "output_type": "stream",
          "name": "stdout",
          "text": [
            "*\n",
            "**\n",
            "***\n",
            "****\n"
          ]
        }
      ]
    },
    {
      "cell_type": "code",
      "source": [
        "#9\n",
        "def max_num_three(x,y,z):\n",
        "   if x > y and x>z:\n",
        "     max_num = x\n",
        "   elif y>z:\n",
        "    max_num = y\n",
        "   else:\n",
        "    max_num = z\n",
        "   return max_num\n",
        "max_num_three(38,94,8)"
      ],
      "metadata": {
        "colab": {
          "base_uri": "https://localhost:8080/"
        },
        "id": "H-0WmCD-2WLB",
        "outputId": "e51ceeb9-f04f-49d5-8b01-98d58fb3dc70"
      },
      "execution_count": 16,
      "outputs": [
        {
          "output_type": "execute_result",
          "data": {
            "text/plain": [
              "94"
            ]
          },
          "metadata": {},
          "execution_count": 16
        }
      ]
    },
    {
      "cell_type": "code",
      "source": [
        "#10.\n",
        "rows = 5\n",
        "\n",
        "for i in range(1, rows + 1):\n",
        "    for j in range(1, i + 1):\n",
        "        print(\"*\", end=\"\")\n",
        "    print()\n",
        "\n",
        "for i in range(rows - 1, 0, -1):\n",
        "    for j in range(1, i + 1):\n",
        "        print(\"*\", end=\"\")\n",
        "    print()"
      ],
      "metadata": {
        "colab": {
          "base_uri": "https://localhost:8080/"
        },
        "id": "bU32dH_qk-ai",
        "outputId": "29d1aabc-1d2f-43ff-9b64-cab9c924f066"
      },
      "execution_count": 17,
      "outputs": [
        {
          "output_type": "stream",
          "name": "stdout",
          "text": [
            "*\n",
            "**\n",
            "***\n",
            "****\n",
            "*****\n",
            "****\n",
            "***\n",
            "**\n",
            "*\n"
          ]
        }
      ]
    },
    {
      "cell_type": "code",
      "source": [],
      "metadata": {
        "id": "KEapVhF_l0qP"
      },
      "execution_count": null,
      "outputs": []
    }
  ]
}